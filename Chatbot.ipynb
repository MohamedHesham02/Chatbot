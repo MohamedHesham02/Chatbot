{
 "cells": [
  {
   "cell_type": "code",
   "execution_count": 1,
   "id": "22f93d4e",
   "metadata": {},
   "outputs": [],
   "source": [
    "GREETING_INPUTS = (\"hello\", \"hi\", \"greetings\", \"sup\", \"what's up\",\"hey\",)\n",
    "GREETING_RESPONSES = [\"hi\", \"hey\", \"hi there\", \"hello\", \"I am glad! You are talking to me\"]\n",
    "\n",
    "def greeting(sentence):\n",
    "    for word in sentence.split():\n",
    "        if word.lower() in GREETING_INPUTS:\n",
    "            return random.choice(GREETING_RESPONSES)"
   ]
  },
  {
   "cell_type": "code",
   "execution_count": 2,
   "id": "ec20fc65",
   "metadata": {},
   "outputs": [],
   "source": [
    "Country = [\"USA\",\"Greece\",\"Sweden\",\"Australia\",\"Finland\",\"Japan\",\"Russia\",'India']\n",
    "Country_s = [\"usa\",\"greece\",\"sweden\",\"australia\",\"finland\",\"japan\",\"russia\",'india']\n",
    "\n",
    "Dataset = { 'usa' : { 'capital': 'Washington, D.C.', 'population': '331,893745 Millions'},\n",
    "            'greece' : { 'capital': 'Athens', 'population': '10,700000 Millions'},\n",
    "            'sweden' : { 'capital': 'Stockholm', 'population': '10,350000 Millions'},\n",
    "            'australia' : { 'capital': 'Canberra', 'population': '25,690000 Millions'},\n",
    "            'finland' : { 'capital': 'Helsinki', 'population': '5,531000 Millions'},\n",
    "            'japan' : { 'capital': 'Tokyo', 'population': '125,800000 Millions'},\n",
    "            'russia' : { 'capital': 'Moscow', 'population': '144,100000 Millions'},\n",
    "            'india' : { 'capital': 'Delhi', 'population': '1,380,000000 Millions'} }"
   ]
  },
  {
   "cell_type": "code",
   "execution_count": 3,
   "id": "1738d5c7",
   "metadata": {},
   "outputs": [],
   "source": [
    "countries_input = ['data', 'countries', 'survey', 'tell', 'me', 'capital', 'population']\n",
    "\n",
    "def check_input(user_response):\n",
    "    flag_2 = False\n",
    "    for word in user_response.split():\n",
    "        if (word.lower() in countries_input) or (word.lower() in Country_s):\n",
    "            flag_2 = True\n",
    "            \n",
    "    if flag_2 == True:\n",
    "        print('ROBO: choose your country from', Country)\n",
    "        sele_country = input()\n",
    "            \n",
    "        if sele_country.lower() in Country_s:\n",
    "            selected_feature = input('ROBO: Do you want to display capital or population ? ')\n",
    "            \n",
    "        else:\n",
    "            print(\"ROBO: Wrong selection....Please select one country from the written below...\")\n",
    "            print('ROBO: choose your country from', Country)\n",
    "            sele_country = input()\n",
    "            \n",
    "        flag_2 = False\n",
    "        return Dataset[sele_country.lower()][selected_feature.lower()]    "
   ]
  },
  {
   "cell_type": "code",
   "execution_count": 4,
   "id": "39717134",
   "metadata": {},
   "outputs": [
    {
     "name": "stdout",
     "output_type": "stream",
     "text": [
      "ROBO: My name is Robo. I will provide you the information you want. If you want to exit, type Bye!\n",
      "Tell me the capital of the USA\n",
      "ROBO: choose your country from ['USA', 'Greece', 'Sweden', 'Australia', 'Finland', 'Japan', 'Russia', 'India']\n",
      "usa\n",
      "ROBO: Do you want to display capital or population ? population\n",
      "ROBO: 331,893745 Millions\n",
      "bye\n",
      "ROBO: Bye! take care..\n"
     ]
    }
   ],
   "source": [
    "flag=True\n",
    "print(\"ROBO: My name is Robo. I will provide you the information you want. If you want to exit, type Bye!\")\n",
    "\n",
    "while(flag==True):\n",
    "    user_response = input()\n",
    "    user_response=user_response.lower()\n",
    "    \n",
    "    if(user_response!='bye'):\n",
    "        \n",
    "        if(user_response=='thanks' or user_response=='thank you' ):\n",
    "            flag=False\n",
    "            print(\"ROBO: You are welcome..\")\n",
    "                        \n",
    "        elif(greeting(user_response)!=None):\n",
    "            print(\"ROBO: \"+greeting(user_response))\n",
    "                \n",
    "        else:\n",
    "            print(\"ROBO: \"+check_input(user_response))\n",
    "                \n",
    "    else:\n",
    "        flag=False\n",
    "        print(\"ROBO: Bye! take care..\")"
   ]
  },
  {
   "cell_type": "code",
   "execution_count": null,
   "id": "4323638d",
   "metadata": {},
   "outputs": [],
   "source": []
  },
  {
   "cell_type": "code",
   "execution_count": null,
   "id": "ac0db97c",
   "metadata": {},
   "outputs": [],
   "source": []
  }
 ],
 "metadata": {
  "kernelspec": {
   "display_name": "Python 3",
   "language": "python",
   "name": "python3"
  },
  "language_info": {
   "codemirror_mode": {
    "name": "ipython",
    "version": 3
   },
   "file_extension": ".py",
   "mimetype": "text/x-python",
   "name": "python",
   "nbconvert_exporter": "python",
   "pygments_lexer": "ipython3",
   "version": "3.8.8"
  }
 },
 "nbformat": 4,
 "nbformat_minor": 5
}
