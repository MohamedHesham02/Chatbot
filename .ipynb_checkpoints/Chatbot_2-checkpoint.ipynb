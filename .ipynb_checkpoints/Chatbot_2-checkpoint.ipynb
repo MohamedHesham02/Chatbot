{
 "cells": [
  {
   "cell_type": "code",
   "execution_count": 1,
   "metadata": {},
   "outputs": [],
   "source": [
    "import random\n",
    "import requests, json"
   ]
  },
  {
   "cell_type": "code",
   "execution_count": 2,
   "metadata": {},
   "outputs": [],
   "source": [
    "# Greetings possible inputs from user and possibilties of responses to randomly choose from them\n",
    "GREETING_INPUTS = (\"hello\", \"hi\", \"greetings\", \"sup\", \"what's up\",\"hey\",)\n",
    "GREETING_RESPONSES = [\"hi\", \"hey\", \"hi there\", \"hello\", \"I am glad! You are talking to me\"]\n",
    "\n",
    "# normalize words to lower case to be compatible of understanding various changes in capital and small words \n",
    "def greeting(sentence):\n",
    "    # tokenize the input to understand the type of input on scale of words\n",
    "    for word in sentence.split():\n",
    "        # checking that input in greeting type \n",
    "        if word.lower() in GREETING_INPUTS:\n",
    "            # randomly choose from responses\n",
    "            return random.choice(GREETING_RESPONSES)"
   ]
  },
  {
   "cell_type": "code",
   "execution_count": 3,
   "metadata": {},
   "outputs": [],
   "source": [
    "# read json data from the API \n",
    "country_url = requests.get('https://qcooc59re3.execute-api.us-east-1.amazonaws.com/dev/getCountries').content\n",
    "json_file = json.loads(country_url)\n",
    "Country = json_file['body']\n",
    "# covert the list of countries to lower case for better understanding various changes in capital and small words\n",
    "Country_s = []\n",
    "for i in range(len(Country)):\n",
    "    Country_s.append(Country[i].lower())"
   ]
  },
  {
   "cell_type": "code",
   "execution_count": 4,
   "metadata": {},
   "outputs": [
    {
     "data": {
      "text/plain": [
       "['usa', 'greece', 'sweden', 'australia', 'finland', 'japan', 'russia', 'india']"
      ]
     },
     "execution_count": 4,
     "metadata": {},
     "output_type": "execute_result"
    }
   ],
   "source": [
    "Country_s"
   ]
  },
  {
   "cell_type": "code",
   "execution_count": 5,
   "metadata": {},
   "outputs": [],
   "source": [
    "cap_url = 'https://qcooc59re3.execute-api.us-east-1.amazonaws.com/dev/getCapital'\n",
    "pop_url = 'https://qcooc59re3.execute-api.us-east-1.amazonaws.com/dev/getPopulation'"
   ]
  },
  {
   "cell_type": "code",
   "execution_count": 6,
   "metadata": {},
   "outputs": [],
   "source": [
    "# countries asking possible inputs from user\n",
    "countries_input = ['data', 'countries', 'survey', 'tell', 'me', 'capital', 'population', 'crowded']\n",
    "\n",
    "def check_input(user_response):\n",
    "    flag_2 = False\n",
    "    # tokenize the input to understand the type of input on scale of words\n",
    "    for word in user_response.split():\n",
    "        # checking that input in countries survey type \n",
    "        if (word.lower() in countries_input) or (word.lower() in Country_s):\n",
    "            flag_2 = True\n",
    "    # country selection        \n",
    "    if flag_2 == True:\n",
    "        print('ROBO: choose your country from', Country)\n",
    "        sele_country = input()\n",
    "            \n",
    "        if sele_country.lower() in Country_s:\n",
    "            # select the required feature to display\n",
    "            selected_feature = input('ROBO: Do you want to display capital or population ? ')\n",
    "            \n",
    "        else:\n",
    "            # in case of wrong country selection\n",
    "            print(\"ROBO: Wrong selection....Please select one country from the written below...\")\n",
    "            print('ROBO: choose your country from', Country)\n",
    "            sele_country = input()\n",
    "            selected_feature = input('ROBO: Do you want to display capital or population ? ')\n",
    "            \n",
    "        flag_2 = False\n",
    "        \n",
    "        if selected_feature == 'capital':\n",
    "\n",
    "            if sele_country != 'usa':\n",
    "                sele_country_f = (sele_country.lower()).title()\n",
    "            else:\n",
    "                sele_country_f = sele_country.upper()\n",
    "                \n",
    "            payload_cap = {\"country\": sele_country_f}\n",
    "            r_cap = requests.post(cap_url, data=json.dumps(payload_cap)).content\n",
    "            json_file = json.loads(r_cap)\n",
    "            capital = json_file['body']['capital']\n",
    "            return 'Capital of {} is {}'.format(sele_country_f,capital)\n",
    "            \n",
    "        else:\n",
    "            \n",
    "            if sele_country != 'usa':\n",
    "                sele_country_f = (sele_country.lower()).title()\n",
    "            else:\n",
    "                sele_country_f = sele_country.upper()\n",
    "                \n",
    "            payload_pop = {\"country\": sele_country_f}\n",
    "            r_pop = requests.post(pop_url, data=json.dumps(payload_pop)).content\n",
    "            json_file = json.loads(r_pop)\n",
    "            population = json_file['body']['population']\n",
    "            return 'Population of {} is {}'.format(sele_country_f,population)"
   ]
  },
  {
   "cell_type": "code",
   "execution_count": 7,
   "metadata": {},
   "outputs": [
    {
     "name": "stdout",
     "output_type": "stream",
     "text": [
      "ROBO: My name is Robo. I will provide you the information you want. If you want to exit, type Bye!\n",
      "You: hello\n",
      "ROBO:  I am glad! You are talking to me\n",
      "You: tell me the capital of usa\n",
      "ROBO: choose your country from ['USA', 'Greece', 'Sweden', 'Australia', 'Finland', 'Japan', 'Russia', 'India']\n",
      "usa\n",
      "ROBO: Do you want to display capital or population ? capital\n",
      "ROBO:  Capital of USA is Washington, D.C.\n",
      "You: tell me the capital of japan\n",
      "ROBO: choose your country from ['USA', 'Greece', 'Sweden', 'Australia', 'Finland', 'Japan', 'Russia', 'India']\n",
      "japan\n",
      "ROBO: Do you want to display capital or population ? capital\n",
      "ROBO:  Capital of Japan is Tokyo\n",
      "You: tell me the population of finland\n",
      "ROBO: choose your country from ['USA', 'Greece', 'Sweden', 'Australia', 'Finland', 'Japan', 'Russia', 'India']\n",
      "finland\n",
      "ROBO: Do you want to display capital or population ? population\n",
      "ROBO:  Population of Finland is 55.2 lakhs\n",
      "You: tell me the population\n",
      "ROBO: choose your country from ['USA', 'Greece', 'Sweden', 'Australia', 'Finland', 'Japan', 'Russia', 'India']\n",
      "austeria\n",
      "ROBO: Wrong selection....Please select one country from the written below...\n",
      "ROBO: choose your country from ['USA', 'Greece', 'Sweden', 'Australia', 'Finland', 'Japan', 'Russia', 'India']\n",
      "sweden\n",
      "ROBO: Do you want to display capital or population ? population\n",
      "ROBO:  Population of Sweden is 1.02 crores\n",
      "You: thank you\n",
      "ROBO: You are welcome..\n"
     ]
    }
   ],
   "source": [
    "# Chatbot implementation\n",
    "flag=True\n",
    "print(\"ROBO: My name is Robo. I will provide you the information you want. If you want to exit, type Bye!\")\n",
    "\n",
    "while(flag==True):\n",
    "    user_response = input('You: ')\n",
    "    # normalize input \n",
    "    user_response=user_response.lower()\n",
    "    # checking input class to provide suitable responses \n",
    "    if(user_response!='bye'):\n",
    "        \n",
    "        if(user_response=='thanks' or user_response=='thank you' ):\n",
    "            flag=False\n",
    "            print(\"ROBO: You are welcome..\")\n",
    "                        \n",
    "        elif(greeting(user_response)!=None):\n",
    "            print(\"ROBO: \", greeting(user_response))\n",
    "                \n",
    "        else:\n",
    "            print(\"ROBO: \", check_input(user_response))\n",
    "                \n",
    "    else:\n",
    "        flag=False\n",
    "        print(\"ROBO: Bye! take care..\")"
   ]
  },
  {
   "cell_type": "code",
   "execution_count": null,
   "metadata": {},
   "outputs": [],
   "source": []
  },
  {
   "cell_type": "code",
   "execution_count": null,
   "metadata": {},
   "outputs": [],
   "source": []
  }
 ],
 "metadata": {
  "kernelspec": {
   "display_name": "Python 3",
   "language": "python",
   "name": "python3"
  },
  "language_info": {
   "codemirror_mode": {
    "name": "ipython",
    "version": 3
   },
   "file_extension": ".py",
   "mimetype": "text/x-python",
   "name": "python",
   "nbconvert_exporter": "python",
   "pygments_lexer": "ipython3",
   "version": "3.7.6"
  }
 },
 "nbformat": 4,
 "nbformat_minor": 5
}
